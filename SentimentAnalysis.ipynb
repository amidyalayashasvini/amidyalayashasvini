{
  "nbformat": 4,
  "nbformat_minor": 0,
  "metadata": {
    "colab": {
      "provenance": [],
      "authorship_tag": "ABX9TyOTqengQgXSPDcfKMCzLdZn",
      "include_colab_link": true
    },
    "kernelspec": {
      "name": "python3",
      "display_name": "Python 3"
    },
    "language_info": {
      "name": "python"
    }
  },
  "cells": [
    {
      "cell_type": "markdown",
      "metadata": {
        "id": "view-in-github",
        "colab_type": "text"
      },
      "source": [
        "<a href=\"https://colab.research.google.com/github/amidyalayashasvini/amidyalayashasvini/blob/main/SentimentAnalysis.ipynb\" target=\"_parent\"><img src=\"https://colab.research.google.com/assets/colab-badge.svg\" alt=\"Open In Colab\"/></a>"
      ]
    },
    {
      "cell_type": "code",
      "execution_count": null,
      "metadata": {
        "id": "k3LhDs6KRjgf"
      },
      "outputs": [],
      "source": [
        "import nltk"
      ]
    },
    {
      "cell_type": "code",
      "source": [
        "import spacy"
      ],
      "metadata": {
        "id": "M5sZwSCoRl-E"
      },
      "execution_count": null,
      "outputs": []
    },
    {
      "cell_type": "code",
      "source": [
        "from nltk import word_tokenize, pos_tag\n",
        "nltk.download('punkt')\n",
        "nltk.download('averaged_perceptron_tagger')"
      ],
      "metadata": {
        "colab": {
          "base_uri": "https://localhost:8080/"
        },
        "id": "3Dx1RhYzRnWe",
        "outputId": "cbfb90e6-5e3b-401c-bb27-87d7f610704c"
      },
      "execution_count": null,
      "outputs": [
        {
          "output_type": "stream",
          "name": "stderr",
          "text": [
            "[nltk_data] Downloading package punkt to /root/nltk_data...\n",
            "[nltk_data]   Package punkt is already up-to-date!\n",
            "[nltk_data] Downloading package averaged_perceptron_tagger to\n",
            "[nltk_data]     /root/nltk_data...\n",
            "[nltk_data]   Unzipping taggers/averaged_perceptron_tagger.zip.\n"
          ]
        },
        {
          "output_type": "execute_result",
          "data": {
            "text/plain": [
              "True"
            ]
          },
          "metadata": {},
          "execution_count": 11
        }
      ]
    },
    {
      "cell_type": "code",
      "source": [
        "text = \"i am yashasvini nice to meet all of you all\""
      ],
      "metadata": {
        "id": "xBS9D-vFRzjL"
      },
      "execution_count": null,
      "outputs": []
    },
    {
      "cell_type": "code",
      "source": [
        "nltk_tokens = word_tokenize(text)"
      ],
      "metadata": {
        "id": "Yay8vvJPR4jP"
      },
      "execution_count": null,
      "outputs": []
    },
    {
      "cell_type": "code",
      "source": [
        "nltk_tokens"
      ],
      "metadata": {
        "colab": {
          "base_uri": "https://localhost:8080/"
        },
        "id": "1I5L3fk6R93f",
        "outputId": "a6733494-2e79-46c3-8f52-64a7eb42bf74"
      },
      "execution_count": null,
      "outputs": [
        {
          "output_type": "execute_result",
          "data": {
            "text/plain": [
              "['i', 'am', 'yashasvini', 'nice', 'to', 'meet', 'all', 'of', 'you', 'all']"
            ]
          },
          "metadata": {},
          "execution_count": 8
        }
      ]
    },
    {
      "cell_type": "code",
      "source": [
        "pos_tags = pos_tag(nltk_tokens)"
      ],
      "metadata": {
        "id": "Q-1KzS-XSIVB"
      },
      "execution_count": null,
      "outputs": []
    },
    {
      "cell_type": "code",
      "source": [
        "pos_tags"
      ],
      "metadata": {
        "colab": {
          "base_uri": "https://localhost:8080/"
        },
        "id": "hV3s8XQjSSoB",
        "outputId": "518c00b8-0b52-4887-f39b-c48b00411b3f"
      },
      "execution_count": null,
      "outputs": [
        {
          "output_type": "execute_result",
          "data": {
            "text/plain": [
              "[('i', 'NN'),\n",
              " ('am', 'VBP'),\n",
              " ('yashasvini', 'RB'),\n",
              " ('nice', 'JJ'),\n",
              " ('to', 'TO'),\n",
              " ('meet', 'VB'),\n",
              " ('all', 'DT'),\n",
              " ('of', 'IN'),\n",
              " ('you', 'PRP'),\n",
              " ('all', 'DT')]"
            ]
          },
          "metadata": {},
          "execution_count": 13
        }
      ]
    },
    {
      "cell_type": "code",
      "source": [
        "nlp = spacy.load(\"en_core_web_sm\")\n",
        "spacy_doc = nlp(text)\n",
        "spacy_tokens = [token.text for token in spacy_doc]\n",
        "spacy_tokens"
      ],
      "metadata": {
        "colab": {
          "base_uri": "https://localhost:8080/"
        },
        "id": "2vaFTVg3SaF6",
        "outputId": "f2ea9e5f-072c-4bb6-9c00-f93020af909b"
      },
      "execution_count": null,
      "outputs": [
        {
          "output_type": "execute_result",
          "data": {
            "text/plain": [
              "['i', 'am', 'yashasvini', 'nice', 'to', 'meet', 'all', 'of', 'you', 'all']"
            ]
          },
          "metadata": {},
          "execution_count": 19
        }
      ]
    },
    {
      "cell_type": "code",
      "source": [
        "spacy_pos = [(token.text, token.pos_) for token in spacy_doc]\n",
        "spacy_pos"
      ],
      "metadata": {
        "colab": {
          "base_uri": "https://localhost:8080/"
        },
        "id": "4bLQoZ9GS19s",
        "outputId": "91b900ed-bfb9-41a2-d5f8-96680d85b81d"
      },
      "execution_count": null,
      "outputs": [
        {
          "output_type": "execute_result",
          "data": {
            "text/plain": [
              "[('i', 'PRON'),\n",
              " ('am', 'AUX'),\n",
              " ('yashasvini', 'ADJ'),\n",
              " ('nice', 'ADJ'),\n",
              " ('to', 'PART'),\n",
              " ('meet', 'VERB'),\n",
              " ('all', 'PRON'),\n",
              " ('of', 'ADP'),\n",
              " ('you', 'PRON'),\n",
              " ('all', 'PRON')]"
            ]
          },
          "metadata": {},
          "execution_count": 20
        }
      ]
    },
    {
      "cell_type": "code",
      "source": [
        "import nltk\n",
        "nltk.download('vader_lexicon')\n",
        "nltk.download('movie_reviews')\n",
        "from nltk.sentiment import SentimentIntensityAnalyzer\n",
        "sentence = \"this product is disgusting\"\n",
        "sia = SentimentIntensityAnalyzer()\n",
        "sentiment_scores = sia.polarity_scores(sentence)\n",
        "compound_score = sentiment_scores['compound']\n",
        "if compound_score > 0.05:\n",
        "    sentiment = \"positive\"\n",
        "elif compound_score <= -0.05:\n",
        "    sentiment = \"Negitive\"\n",
        "else:\n",
        "    sentiment = \"Neutral\"\n",
        "\n",
        "\n",
        "print(sentence)\n",
        "print(sentiment)\n",
        "print(sentiment_scores)\n"
      ],
      "metadata": {
        "colab": {
          "base_uri": "https://localhost:8080/"
        },
        "id": "hoqTHENKTU3k",
        "outputId": "c7935c2c-c107-4bdf-eade-d9dc91de313f"
      },
      "execution_count": null,
      "outputs": [
        {
          "output_type": "stream",
          "name": "stdout",
          "text": [
            "this product is disgusting\n",
            "Negitive\n",
            "{'neg': 0.531, 'neu': 0.469, 'pos': 0.0, 'compound': -0.5267}\n"
          ]
        },
        {
          "output_type": "stream",
          "name": "stderr",
          "text": [
            "[nltk_data] Downloading package vader_lexicon to /root/nltk_data...\n",
            "[nltk_data]   Package vader_lexicon is already up-to-date!\n",
            "[nltk_data] Downloading package movie_reviews to /root/nltk_data...\n",
            "[nltk_data]   Package movie_reviews is already up-to-date!\n"
          ]
        }
      ]
    },
    {
      "cell_type": "code",
      "source": [],
      "metadata": {
        "id": "T0VVapZeFGmJ"
      },
      "execution_count": null,
      "outputs": []
    }
  ]
}